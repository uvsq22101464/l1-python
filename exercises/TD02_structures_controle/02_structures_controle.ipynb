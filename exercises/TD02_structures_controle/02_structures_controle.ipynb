{
 "cells": [
  {
   "cell_type": "markdown",
   "source": [
    "# TD 2: Les structures de contrôle\r\n",
    "\r\n",
    "---\r\n",
    "\r\n",
    "## 0. Récupération des nouveaux documents\r\n",
    "\r\n",
    "\r\n",
    "Les sujets de TD ainsi que les supports de cours sont publiés en ligne au fur et à mesure sur l'espace github original [https://github.com/uvsq-info/l1-python](https://github.com/uvsq-info/l1-python). Au moment où vous avez fait le fork de cet espace sur votre espace personnel, il est probable que tous les contenus n'étaient pas présents. Pour compléter votre espace, deux solutions sont possibles:\r\n",
    "\r\n",
    "\r\n",
    "1. (solution à privilégier) aller sur la page du projet original [https://github.com/uvsq-info/l1-python](https://github.com/uvsq-info/l1-python), et cliquer sur le bouton vert `Code` en haut à droite. Choisir `download ZIP`, puis extraire l'ensemble des nouveaux fichiers vers votre projet personnel local. Vous pouvez ensuite sauvegarder ces ajouts dans votre espace github personnel en suivant la procédure habituelle.\r\n",
    "2. (solution qui présente des risques de conflits entre différentes versions d'un même document) en ligne de commande dans le terminal, en suivant la procédure de la section *Intégrer les mises à jour du projet original* du fichier [README.md](https://github.com/uvsq-info/l1-python/blob/master/README.md#int%C3%A9grer-les-mises-%C3%A0-jour-du-projet-original)\r\n"
   ],
   "metadata": {
    "slideshow": {
     "slide_type": "slide"
    }
   }
  },
  {
   "cell_type": "markdown",
   "source": [
    "---\r\n",
    "\r\n",
    "## 1. Premiers exercices avec les structures conditionnelles\r\n",
    "\r\n",
    "**Exercice 1:**\r\n",
    "\r\n",
    "1. Soit *num1 = 15* et *num2 = 5*. Ecrire un programme qui affiche *Factors!* si l'un des nombres est un facteur de l'autre (c'est-à-dire qu'il divise l'autre nombre). Si aucun des nombres n'est un facteur de l'autre, le programme n'affiche rien.\r\n",
    "2. Changer le code que vous avez écrit de telle sorte qu'il affiche toujours *Factors!* si un nombre est un facteur de l'autre, mais qui affiche aussi *Not factors!* si aucun des nombres n'est un facteur de l'autre."
   ],
   "metadata": {
    "slideshow": {
     "slide_type": "slide"
    }
   }
  },
  {
   "cell_type": "code",
   "execution_count": null,
   "source": [
    "num1 = 15\r\n",
    "num2 = 5\r\n",
    "if num1 % num2 == 0 :\r\n",
    "    print(\"factors\")\r\n",
    "else :\r\n",
    "    print(\"not factors!\")"
   ],
   "outputs": [],
   "metadata": {
    "slideshow": {
     "slide_type": "notes"
    }
   }
  },
  {
   "cell_type": "markdown",
   "source": [
    "**Exercice 2:**\r\n",
    "    \r\n",
    "Soit *state = \"Georgia\"*. Ecrire un programme qui permet d'afficher un message spécifique en fonction de la variable *state* :  \r\n",
    "* \"School isn't cancelled.\" si nous sommes à New Jersey,  \r\n",
    "* \"School is postponed.\" si nous sommes à North Carolina,\r\n",
    "* \"School is cancelled!\" si nous sommes à Georgia,  \r\n",
    "* \"School's status is unknown\" si nous ne sommes pas dans un des trois états précédemment mentionnés."
   ],
   "metadata": {
    "slideshow": {
     "slide_type": "slide"
    }
   }
  },
  {
   "cell_type": "code",
   "execution_count": null,
   "source": [
    "state = \"Georgia\"\r\n",
    "if state == \"New Jersey\" :\r\n",
    "    print(\"School isn't cancelled\")\r\n",
    "elif state == \"North Carolina\" :\r\n",
    "    print(\"School is prosponed\")\r\n",
    "elif state == \"Georgia\" :\r\n",
    "    print(\"School is cancelled\")\r\n",
    "else :\r\n",
    "    print(\"School's status is unknown\")"
   ],
   "outputs": [],
   "metadata": {
    "slideshow": {
     "slide_type": "notes"
    }
   }
  },
  {
   "cell_type": "markdown",
   "source": [
    "**Exercice 3:**\r\n",
    "\r\n",
    "Ecrire un programme pour découvrir le signe du zodiaque chinois pour une année donnée. Le signe du zodiaque chinois est basé sur un cycle de 12 ans et chaque année de ce cycle est représentée par un animal :\r\n",
    "* 0: monkey\r\n",
    "* 1: rooster\r\n",
    "* 2: dog\r\n",
    "* 3: pig\r\n",
    "* 4: rat\r\n",
    "* 5: ox\r\n",
    "* 6: tiger\r\n",
    "* 7: rabbit\r\n",
    "* 8: dragon\r\n",
    "* 9: snake\r\n",
    "* 10: horse\r\n",
    "* 11: sheep\r\n",
    "\r\n",
    "La valeur de l'année % 12 détermine le signe du zodiaque. Par exemple, 1900 est l'année du *rat* puisque 1900 % 12 est 4."
   ],
   "metadata": {
    "slideshow": {
     "slide_type": "slide"
    }
   }
  },
  {
   "cell_type": "code",
   "execution_count": null,
   "source": [
    "x = int(input(\"écrivez votre année de naissance\"))\r\n",
    "if x % 12 == 0 :\r\n",
    "    print(\"monkey\")\r\n",
    "elif x % 12 == 1 :\r\n",
    "    print(\"rooster\")\r\n",
    "elif x % 12 == 2 :\r\n",
    "    print(\"dog\")\r\n",
    "elif x % 12 == 3 :\r\n",
    "    print(\"pig\")\r\n",
    "elif x % 12 == 4 :\r\n",
    "    print(\"rat\")\r\n",
    "elif x % 12 == 5 :\r\n",
    "    print(\"ox\")\r\n",
    "elif x % 12 == 6 :\r\n",
    "    print(\"tiger\")\r\n",
    "elif x % 12 == 7 :\r\n",
    "    print(\"rabbit\")\r\n",
    "elif x % 12 == 8 :\r\n",
    "    print(\"dragon\")\r\n",
    "elif x % 12 == 9 :\r\n",
    "    print(\"snake\")\r\n",
    "elif x % 12 == 10 :\r\n",
    "    print(\"horse\")\r\n",
    "else :\r\n",
    "    print(\"sheep\")"
   ],
   "outputs": [],
   "metadata": {
    "slideshow": {
     "slide_type": "notes"
    }
   }
  },
  {
   "cell_type": "markdown",
   "source": [
    "**Exercice 4:**\r\n",
    "\r\n",
    "Soit *temperature = -3.7* et *celsius = True*. *celsius* est une variable booléenne qui indique si la température est en Celsius; si c'est *False*, alors la température donnée est en Fahrenheit. Ecrire un premier programme en utilisant *if-else* seulement qui permet d'afficher *Freezing* si les valeurs données représentent une température très basse, et *Not freezing* si ce n'est pas le cas. En Celsius, on considère qu'il fait très froid lorsque la température est inférieure ou égale à 0 degré. En Fahrenheit, on considère qu'il fait très froid lorsque la température est inférieure ou égale à 32 degrés. Proposer une seconde solution en utilisant *if-elif-else* à ce même problème."
   ],
   "metadata": {
    "slideshow": {
     "slide_type": "slide"
    }
   }
  },
  {
   "cell_type": "code",
   "execution_count": null,
   "source": [
    "temperature = -3.7\r\n",
    "if temperature <= 0 and \"celsius\" == \"celsius\" :\r\n",
    "    print(\"freezing\")\r\n",
    "elif temperature <= 32 and \"celsius\" != \"celsius\" :\r\n",
    "    print(\"freezing\")\r\n",
    "else : \r\n",
    "    print(\"not freezing\")"
   ],
   "outputs": [],
   "metadata": {
    "slideshow": {
     "slide_type": "notes"
    }
   }
  },
  {
   "cell_type": "markdown",
   "source": [
    "**Exercice 5:**\r\n",
    "    \r\n",
    "Ecrire un programme qui permet de déterminer si une année est bissextile ou non en utilisant une seule instruction *if-else*. Une année *A* est bissextile si *A* est divisible par 4. Elle ne l’est cependant pas si *A* est un multiple\r\n",
    "de 100, à moins que *A* ne soit multiple de 400.    "
   ],
   "metadata": {
    "slideshow": {
     "slide_type": "slide"
    }
   }
  },
  {
   "cell_type": "code",
   "execution_count": null,
   "source": [
    "A = int(input(\"entrer une année\"))\r\n",
    "if A % 4 == 0 and A % 100 != 0 or A % 400 == 0 :\r\n",
    "    print(\"l'année est bissextile\")\r\n",
    "else :\r\n",
    "    print(\"l'année n'est pas bissextile\")"
   ],
   "outputs": [],
   "metadata": {
    "slideshow": {
     "slide_type": "notes"
    }
   }
  },
  {
   "cell_type": "markdown",
   "source": [
    "---\r\n",
    "\r\n",
    "## 2. Premiers exercices avec les structures itératives\r\n",
    "\r\n",
    "**Exercice 6:**\r\n",
    "\r\n",
    "1. Ecrire un programme qui permet d'afficher tous les nombres entre 1 et 10 (bornes incluses).\r\n",
    "2. Ecrire un programme se limitant à la boucle *for* qui permet d'afficher tous les nombres pairs entre 1 et 20 (bornes incluses). Proposer une deuxième solution en incluant une structure conditionnelle."
   ],
   "metadata": {}
  },
  {
   "cell_type": "code",
   "execution_count": null,
   "source": [
    "for i in range(2,21,2) :\r\n",
    "    print(i)\r\n",
    "    \r\n",
    "for i in range(1,21,) :\r\n",
    "    if i % 2 == 0 :\r\n",
    "        print(i)"
   ],
   "outputs": [],
   "metadata": {}
  },
  {
   "cell_type": "markdown",
   "source": [
    "**Exercice 7:**\n",
    "    \n",
    "1. Ecrire un programme qui demande à l'utilisateur de saisir *n* nombres, *n* étant choisi par l'utilisateur, puis d'afficher la moyenne de ces nombres.\n",
    "\n",
    "2. Même question, mais l'utilisateur ne choisit pas à l'avance le nombre *n*, la procédure s'arrête quand il saisit le nombre -1.\n"
   ],
   "metadata": {}
  },
  {
   "cell_type": "code",
   "execution_count": null,
   "source": [
    "n = int(input(\"entre le nombre de nombres que tu veux choisir\"))\r\n",
    "m1 = 0\r\n",
    "for i in range(0,n) :\r\n",
    "    m = int(input(\"écriver un nombres\"))\r\n",
    "    m1 = m1 + m\r\n",
    "print(m1 / n)"
   ],
   "outputs": [],
   "metadata": {}
  },
  {
   "cell_type": "code",
   "execution_count": null,
   "source": [
    "nbTour = -1\r\n",
    "m1 = 0\r\n",
    "n = 0\r\n",
    "while n != -1 :\r\n",
    "    nbTour = nbTour +1\r\n",
    "    n = int(input(\"écrivez des nombres dont vous voulez la moyenne\"))\r\n",
    "    m1 = m1 + n\r\n",
    "print((m1 + 1) / nbTour)"
   ],
   "outputs": [],
   "metadata": {}
  },
  {
   "cell_type": "markdown",
   "source": [
    "**Exercice 8:**\r\n",
    "\r\n",
    "Ecrire un programme qui permet de calculer le factoriel d'un nombre positif donné par l'utlisateur selon la formule suivante : \r\n",
    "n! = 1 x 2 x ... x n.  \r\n",
    "\r\n",
    "1. Une première version en utilisant la boucle *for*\r\n",
    "2. Une seconde version en utilisant la boucle *while*"
   ],
   "metadata": {}
  },
  {
   "cell_type": "code",
   "execution_count": null,
   "source": [
    "n = int(input(\"entrez un nombre pour obtenir son factoriel\"))\r\n",
    "f = 1\r\n",
    "for i in range(0,n) :\r\n",
    "    f = f * n\r\n",
    "    n -= 1\r\n",
    "print(f)"
   ],
   "outputs": [
    {
     "output_type": "error",
     "ename": "Error",
     "evalue": "Session cannot generate requests",
     "traceback": [
      "Error: Session cannot generate requests",
      "at w.executeCodeCell (c:\\Users\\ethan\\.vscode\\extensions\\ms-toolsai.jupyter-2021.8.2041215044\\out\\client\\extension.js:52:301310)",
      "at w.execute (c:\\Users\\ethan\\.vscode\\extensions\\ms-toolsai.jupyter-2021.8.2041215044\\out\\client\\extension.js:52:300703)",
      "at w.start (c:\\Users\\ethan\\.vscode\\extensions\\ms-toolsai.jupyter-2021.8.2041215044\\out\\client\\extension.js:52:296367)",
      "at processTicksAndRejections (internal/process/task_queues.js:93:5)",
      "at async t.CellExecutionQueue.executeQueuedCells (c:\\Users\\ethan\\.vscode\\extensions\\ms-toolsai.jupyter-2021.8.2041215044\\out\\client\\extension.js:52:311160)",
      "at async t.CellExecutionQueue.start (c:\\Users\\ethan\\.vscode\\extensions\\ms-toolsai.jupyter-2021.8.2041215044\\out\\client\\extension.js:52:310700)"
     ]
    }
   ],
   "metadata": {}
  },
  {
   "cell_type": "code",
   "execution_count": null,
   "source": [
    "n = int(input(\"entrez un nombre pour obtenir son factoriel\"))\r\n",
    "f = 1\r\n",
    "while n != 1 :\r\n",
    "    f = f * n\r\n",
    "    n -= 1\r\n",
    "print(f)"
   ],
   "outputs": [],
   "metadata": {}
  },
  {
   "cell_type": "markdown",
   "source": [
    "---\r\n",
    "\r\n",
    "## 3. Pour aller plus loin\r\n",
    "\r\n",
    "**Excercice 9:**\r\n",
    "\r\n",
    "Ecrire un programme qui permet de connaître le jour de naissance de l'utilisateur en posant cinq questions.\r\n",
    "Chaque question demande si le jour est dans l'un des cinq ensembles suivants :\r\n",
    "\r\n",
    "* Set 1: \\[1 3 5 7 9 11 13 15 17 19 21 23 25 27 29 31\\]\r\n",
    "* Set 2: \\[2 3 6 7 10 11 14 15 18 19 22 23 26 27 30 31\\]\r\n",
    "* Set 3: \\[4 5 6 7 12 13 14 15 20 21 22 23 28 29 30 31\\]\r\n",
    "* Set 4: \\[8 9 10 11 12 13 14 15 24 25 26 27 28 29 30 31\\]\r\n",
    "* Set 5: \\[16 17 18 19 20 21 22 23 24 25 26 27 28 29 30 31\\]\r\n",
    "    \r\n",
    "\r\n",
    "Le jour de naissance est la somme des premiers nombres dans les ensembles où le jour apparaît. Par exemple,\r\n",
    "si le jour de naissance est 19, il apparaît dans Set 1, Set 2 et Set 5. Les premiers chiffres de ces trois ensembles sont 1, 2 et 16. Leur somme est 19."
   ],
   "metadata": {
    "slideshow": {
     "slide_type": "slide"
    }
   }
  },
  {
   "cell_type": "code",
   "execution_count": null,
   "source": [
    "set1 = [1, 3, 5, 7, 9, 11, 13, 15, 17, 19, 21, 23, 25, 27, 29, 31]\r\n",
    "set2 = [2, 3, 6, 7, 10, 11, 14, 15, 18, 19, 22, 23, 26, 27, 30, 31]\r\n",
    "set3 = [4, 5, 6, 7, 12, 13, 14, 15, 20, 21, 22, 23, 28, 29, 30, 31]\r\n",
    "set4 = [8, 9, 10, 11, 12, 13, 14, 15, 24, 25, 26, 27, 28, 29, 30, 31]\r\n",
    "set5 = [16, 17, 18, 19, 20, 21, 22, 23, 24, 25, 26, 27, 28, 29, 30, 31]\r\n",
    "v = 1\r\n",
    "x = 0\r\n",
    "for i in range(0,5) :\r\n",
    "    s = input(print(\"votre jour de naissance est-il dans le set\", v,  \"? tapez oui si il y est.\" ))\r\n",
    "    if s == \"oui\" and v == 1 :\r\n",
    "        x = x + 1\r\n",
    "    elif s == \"oui\" and v == 2 :\r\n",
    "        x = x + 2\r\n",
    "    elif s == \"oui\" and v == 3 :\r\n",
    "        x = x + 4\r\n",
    "    elif s == \"oui\" and v == 4 :\r\n",
    "        x = x + 8\r\n",
    "    elif s == \"oui\" and v == 5 :\r\n",
    "        x = x + 16\r\n",
    "    v += 1\r\n",
    "print(\"votre jour de naissance est\", x)"
   ],
   "outputs": [],
   "metadata": {
    "slideshow": {
     "slide_type": "notes"
    }
   }
  },
  {
   "cell_type": "markdown",
   "source": [
    "**Excercice 10:**\n",
    "\n",
    "Ecrire un programme qui permet de génèrer de manière aléatoire un nombre à deux chiffres, invite l'utilisateur à saisir un nombre à deux chiffres et détermine si l'utilisateur gagne selon les règles suivantes :\n",
    "* Si l'entrée de l'utilisateur correspond à la loterie (le nombre généré aléatoirement) dans l'ordre exact, la récompense est de 10 000€.\n",
    "* Sinon, si les deux chiffres entrés par l'utilisateur correspondent aux deux chiffres du numéro de loterie, la récompense est de 3 000€.\n",
    "* Sinon, si un chiffre dans l'entrée de l'utilisateur correspond à un chiffre dans le numéro de loterie, la récompense est de 1 000€.\n",
    "\n",
    "**Astuce :** Utiliser la fonction **random.randint(0, 99)** pour génèrer de manière aléatoire un nombre à deux chiffres. Cette fonction doit être accompagné par **import random** comme première instruction dans le code."
   ],
   "metadata": {
    "slideshow": {
     "slide_type": "slide"
    }
   }
  },
  {
   "cell_type": "code",
   "execution_count": null,
   "source": [
    "import random\r\n",
    "l1, l2 = str(random.randint(0,9)), str(random.randint(0,9))\r\n",
    "u1 = str(input(\"entrez votre choix du chiffre 1 pour la lotterie\"))\r\n",
    "u2 = str(input(\"entrez votre choix du chiffre 2 pour la lotterie\"))\r\n",
    "if u1 + u2 == l1 + l2 :\r\n",
    "    print(\"vous avez gagné 10 000€\")\r\n",
    "elif u1 == l1 and u2 == l2 or u1 == l2 and u2 == l1 :\r\n",
    "    print(\"vous avez gagné 3 000€\")\r\n",
    "elif u1 == l1 or u2 == l2 or u1 == l2 or u2 == l1 :\r\n",
    "    print(\"vous avez gagné 1 000€\")\r\n",
    "else : \r\n",
    "    print(\"perdu (•_•)\")\r\n",
    "\r\n",
    "# Aussi possible avec %10 et //10"
   ],
   "outputs": [],
   "metadata": {
    "slideshow": {
     "slide_type": "notes"
    }
   }
  },
  {
   "cell_type": "markdown",
   "source": [
    "**Exercice 11:**\n",
    "    \n",
    "Ecrire un programme qui permet de calculer la somme des chiffres d'un entier *n* donné. Le nombre *n* doit être compris entre 10 et 20 (bornes incluses)."
   ],
   "metadata": {}
  },
  {
   "cell_type": "code",
   "execution_count": null,
   "source": [
    "n = int(input(\"entrez un nombre entre 10 et 20\"))\r\n",
    "s = n % 10 + n // 10\r\n",
    "print(s)"
   ],
   "outputs": [],
   "metadata": {}
  },
  {
   "cell_type": "markdown",
   "source": [
    "**Exercice 12:**\n",
    "\n",
    "1. Ecrire un programme qui permet de générer aléatoirement deux nombres entre 0 et 9, de calculer leurs différences (en valeur absolue), puis d'inviter l'utilisateur à répondre à la question suivante *que vaut abs(number1 - number2)?*. Le programme doit permettre à l'utilisateur de répondre plusieurs fois jusqu'à la saisie de la bonne réponse.\n",
    "2. Modifier le programme précédent de telle sorte qu'il génère cinq occurences à la suite invitant à répondre à la question précédente. A la fin, le programme affiche le nombre moyen de tentatives qu'il a fallu à l'utilisateur pour répondre à une question."
   ],
   "metadata": {}
  },
  {
   "cell_type": "code",
   "execution_count": null,
   "source": [
    "import random\r\n",
    "r1, r2 = random.randint(0,9), random.randint(0,9)\r\n",
    "d = abs(r1 - r2)\r\n",
    "r = -1\r\n",
    "print(\"que vaut\", r1, \"-\", r2, \"en valeur absolue\")\r\n",
    "while r != d :\r\n",
    "    r = int(input(\"écrivez votre réponse ici ^_^\"))\r\n",
    "print(\"bravo ^_____^\")"
   ],
   "outputs": [],
   "metadata": {
    "tags": []
   }
  },
  {
   "cell_type": "code",
   "execution_count": 2,
   "source": [
    "import random\r\n",
    "r = -1\r\n",
    "d = 0\r\n",
    "tentative = 0\r\n",
    "réussite = 0\r\n",
    "d1 = []\r\n",
    "for i in range(0,5) :\r\n",
    "    r1, r2 = random.randint(0,9), random.randint(0,9)\r\n",
    "    d = abs(r1 - r2)\r\n",
    "    d1.append(r1), d1.append(r2)\r\n",
    "    print(\"que vaut\", r1, \"-\", r2, \"en valeur absolue\")\r\n",
    "    r = int(input(\"écrivez votre réponse ici ^_^\"))\r\n",
    "    tentative = tentative + 1\r\n",
    "    if d != r :\r\n",
    "        while d !=r :\r\n",
    "            print(d1[-2], \"-\", d1[-1])\r\n",
    "            r = int(input(\"écrivez votre réponse ici ^_^\"))\r\n",
    "            tentative = tentative + 1\r\n",
    "    if d == r :\r\n",
    "        réussite = réussite +1\r\n",
    "\r\n",
    "print(\"bravo ^_____^\", \"vous avez en moyenne\", tentative / réussite, \"tentative pour\", réussite / réussite, \"une bonne réponse\")\r\n"
   ],
   "outputs": [
    {
     "output_type": "stream",
     "name": "stdout",
     "text": [
      "que vaut 7 - 3 en valeur absolue\n",
      "que vaut 5 - 8 en valeur absolue\n",
      "que vaut 4 - 1 en valeur absolue\n",
      "que vaut 1 - 5 en valeur absolue\n",
      "que vaut 8 - 5 en valeur absolue\n",
      "bravo ^_____^ vous avez en moyenne 1.0 tentative pour 1.0 une bonne réponse\n"
     ]
    }
   ],
   "metadata": {
    "tags": []
   }
  },
  {
   "cell_type": "markdown",
   "source": [
    "**Exercice 13:**\n",
    "\n",
    "Ecrire un programme qui permet de calculer le nombre de mots dans une phrase saisie par l'utilisateur."
   ],
   "metadata": {}
  },
  {
   "cell_type": "code",
   "execution_count": 12,
   "source": [
    "p = input(\"écrivez une phrase\")\r\n",
    "len(p)"
   ],
   "outputs": [
    {
     "output_type": "execute_result",
     "data": {
      "text/plain": [
       "22"
      ]
     },
     "metadata": {},
     "execution_count": 12
    }
   ],
   "metadata": {
    "tags": []
   }
  },
  {
   "cell_type": "markdown",
   "source": [
    "---\n",
    "\n",
    "## 4. Pour s'entraîner\n",
    "\n",
    "**Exercice 14:**\n",
    "    \n",
    "Soit la variable my_input = \"zoophysiology\". Ecrire un script qui permet d'afficher l'un des messages suivants en fonction du nombre maximum de *o* consécutifs dans la variable *my_input*. Par exemple, le script doit afficher \"I like studying birds! I want to become an ornithologist!\" parce qu'il y a deux *o* consécutifs, même s'il y a aussi des *o* individual.\n",
    "Ignorer les *o* majuscules - recherchez que les *o* minuscules.\n",
    "\n",
    "* Si \"o\" apparaît trois fois ou plus de suite, afficher le message \"I like going to the zoo!\"  \n",
    "* Si \"o\" apparaît deux fois, afficher le message \"I like studying birds! I want to become an ornithologist!\"  \n",
    "* Si \"o\" apparaît une seule fois, afficher le message \"I like studying fish! I want to become an ichthyologist!\"  \n",
    "* Si \"o\" n'apparaît pas dans la variable *my_input*, afficher le message \"I miss going to the zoo!\"  \n",
    "\n",
    "**Astuce :** Utiliser l'opérateur **in** qui renvoie **True** si la première chaîne se trouve dans la deuxième chaîne. "
   ],
   "metadata": {
    "slideshow": {
     "slide_type": "slide"
    }
   }
  },
  {
   "cell_type": "code",
   "execution_count": null,
   "source": [],
   "outputs": [],
   "metadata": {
    "slideshow": {
     "slide_type": "notes"
    }
   }
  },
  {
   "cell_type": "markdown",
   "source": [
    "**Exercice 15:**\n",
    "    \n",
    "Créer quatre variables nommées *team_1* et *team_2*, représentant deux noms d'équipes, et *team_1_score* et *team_2_score*, représentant les scores de ces deux équipes. \n",
    "Une équipe gagne si son score est supérieur à l'autre score de l'autre équipe.\n",
    " \n",
    "Ecrire un premier script qui permet d'afficher les messages suivants selon les valeurs entrées, ceci en utilisant seulement les quatres variables créées :\n",
    "* Si une équipe bat l'autre, affichez: \"\\[winner\\] beat \\[loser\\] by \\[margin\\]\"\n",
    "* Si aucune des équipes n'a gagné, affichez: \"\\[team_1\\] played \\[team_2\\] and it was a tie\"\n",
    "\n",
    "Ecrire un deuxième script qui permet d'afficher les mêmes messages mais en ajoutant trois variables de plus :\n",
    "* La variable *winner* pour définir l'équipe gagnante  \n",
    "* La variable *loser* pour définier l'équipe perdante  \n",
    "* La variable *margin* pour définir la différence entre les deux scores \n"
   ],
   "metadata": {
    "slideshow": {
     "slide_type": "slide"
    }
   }
  },
  {
   "cell_type": "code",
   "execution_count": null,
   "source": [],
   "outputs": [],
   "metadata": {
    "slideshow": {
     "slide_type": "notes"
    }
   }
  },
  {
   "cell_type": "code",
   "execution_count": null,
   "source": [],
   "outputs": [],
   "metadata": {
    "slideshow": {
     "slide_type": "notes"
    }
   }
  },
  {
   "cell_type": "markdown",
   "source": [
    "**Exercice 16:**\n",
    "    \n",
    "L'Indice de Masse Corporelle (IMC) permet d'estimer le poids idéal en fonction de la taille. Son calcul correspond au poids en kilogrammes divisé par le carré de la taille en mètre (IMC = poids en kg/taille² en m). Le chiffre obtenu permet d'estimer la corpulence et éventuellement le surpoids ou l'obésité chez l'adulte, homme ou femme.\n",
    "L'interprétation de l'IMC pour les personnes de 16 ans et plus est la suivante :\n",
    "* Moins de 18.5: Underweight\n",
    "* Entre 18.5 et 24.9: Normal\n",
    "* Entre 25.0 et 29.9: Overweight\n",
    "* Plus que 30.0: Obese\n",
    "\n",
    "Ecrire un programme qui permet de saisir un poids en *pounds* et une taille en *inches*, de calculer et d'afficher l'IMC à deux valeurs après la virgule, et d'afficher l'interprétation la plus adéquate. Notez qu'un *pound* équivaut à 0,45359237 kilogrammes et qu'un *inch* équivaut à 0,0254 mètre.  \n",
    "\n",
    "**Astuce :** Pour afficher deux valeurs après la virgule, utilisez la fonction **format(nom_variable, \".2f\")**. Exemple : **print('La moyenne est :', format(moyenne, \".2f\"))**"
   ],
   "metadata": {
    "slideshow": {
     "slide_type": "slide"
    }
   }
  },
  {
   "cell_type": "code",
   "execution_count": null,
   "source": [],
   "outputs": [],
   "metadata": {
    "slideshow": {
     "slide_type": "notes"
    }
   }
  },
  {
   "cell_type": "markdown",
   "source": [
    "**Exercice 17:**\n",
    "\n",
    "Ecrire un programme qui affiche un triangle d'étoiles de taille donnée, par exemple si on entre 6, le programme affiche:\n",
    "```\n",
    "*\n",
    "**\n",
    "***\n",
    "****\n",
    "*****\n",
    "******\n",
    "```"
   ],
   "metadata": {}
  },
  {
   "cell_type": "code",
   "execution_count": null,
   "source": [],
   "outputs": [],
   "metadata": {
    "tags": []
   }
  },
  {
   "cell_type": "markdown",
   "source": [
    "**Exercice 18:**\n",
    "\n",
    "Même exercice mais cette fois la sortie est\n",
    "```\n",
    "     *\n",
    "    **         \n",
    "   ***\n",
    "  ****\n",
    " *****\n",
    "******\n",
    "```"
   ],
   "metadata": {}
  },
  {
   "cell_type": "code",
   "execution_count": null,
   "source": [],
   "outputs": [],
   "metadata": {
    "tags": []
   }
  },
  {
   "cell_type": "markdown",
   "source": [
    "**Exercice 19:**\n",
    "\n",
    "Ecrire un programme qui calcule, étant donné un entier *n* rentré par l'utilisateur, la plus grande puissance de *n* inférieure à un million."
   ],
   "metadata": {}
  },
  {
   "cell_type": "code",
   "execution_count": null,
   "source": [],
   "outputs": [],
   "metadata": {
    "tags": []
   }
  }
 ],
 "metadata": {
  "celltoolbar": "Diaporama",
  "kernelspec": {
   "name": "python3",
   "display_name": "Python 3.9.7 64-bit ('l1-python': conda)"
  },
  "language_info": {
   "codemirror_mode": {
    "name": "ipython",
    "version": 3
   },
   "file_extension": ".py",
   "mimetype": "text/x-python",
   "name": "python",
   "nbconvert_exporter": "python",
   "pygments_lexer": "ipython3",
   "version": "3.9.7"
  },
  "interpreter": {
   "hash": "72e8bb6b893d808b8cc485bb2e8d4025b08b374314c25c738da854a72c6e26bf"
  }
 },
 "nbformat": 4,
 "nbformat_minor": 4
}